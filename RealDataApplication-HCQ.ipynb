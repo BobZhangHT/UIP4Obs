{
 "cells": [
  {
   "cell_type": "code",
   "execution_count": 1,
   "id": "21013b66",
   "metadata": {},
   "outputs": [
    {
     "name": "stderr",
     "output_type": "stream",
     "text": [
      "WARNING (theano.tensor.blas): Using NumPy C-API based implementation for BLAS functions.\n"
     ]
    }
   ],
   "source": [
    "from samplers import *\n",
    "from easydict import EasyDict as edict\n",
    "import numpy as np\n",
    "import pandas as pd"
   ]
  },
  {
   "cell_type": "code",
   "execution_count": 2,
   "id": "b207e5cc",
   "metadata": {},
   "outputs": [],
   "source": [
    "def mcmc_sampler(outcome_model,random_state):\n",
    "    with outcome_model:\n",
    "        # draw posterior samples\n",
    "        trace = pm.sample(5000, \n",
    "                          tune=5000,\n",
    "                          cores=1,\n",
    "                          chains=2,\n",
    "                          progressbar=False,\n",
    "                          return_inferencedata=False,\n",
    "                          random_seed=random_state)\n",
    "    return trace"
   ]
  },
  {
   "cell_type": "code",
   "execution_count": 3,
   "id": "717966e9",
   "metadata": {},
   "outputs": [],
   "source": [
    "def BPH(D,n_intervals=5,\n",
    "        cov_adj=False,\n",
    "        random_state=2021):\n",
    "    \n",
    "    # preprocessing\n",
    "    y_interval = D.y.copy()\n",
    "    y_interval = np.append(y_interval[D.T==1],[np.max(y_interval)+1,0])\n",
    "    interval_bounds = np.quantile(np.unique(y_interval),np.linspace(0,1,n_intervals+1))\n",
    "    interval_bounds[1:-1] = np.array([0.95*item if item in interval_bounds else item for item in interval_bounds[1:-1]])\n",
    "    intervals = np.arange(n_intervals)\n",
    "    interval_length = np.diff(interval_bounds)\n",
    "    last_period = np.array([np.sum(interval_bounds<=yy)-1 for yy in D.y]).astype(int)\n",
    "    n = D.y.shape[0]\n",
    "    \n",
    "    # create some datasets\n",
    "    event_mat = np.zeros((n, n_intervals))\n",
    "    event_mat[np.arange(n), last_period] = D.delta\n",
    "    exposure_mat = np.greater_equal.outer(D.y, interval_bounds[:-1]) * interval_length\n",
    "    exposure_mat[np.arange(n), last_period] = D.y - interval_bounds[last_period]\n",
    "    \n",
    "    with pm.Model() as outcome_model:\n",
    "\n",
    "        lambda0 = pm.Gamma(\"lambda0\", 0.01, 0.01, shape=n_intervals)\n",
    "        theta1 = pm.Normal(\"theta1\", 0, sigma=100)\n",
    "\n",
    "        if cov_adj:\n",
    "            alpha = pm.Normal(\"alpha\", 0, sigma=100, shape=D.X.shape[1])\n",
    "            lambda_ = pm.Deterministic(\"lambda_\", pm.theano.tensor.outer(pm.math.exp(pm.math.dot(D.X,alpha) + theta1*D.T), \n",
    "                                                                     lambda0))\n",
    "        else:\n",
    "            lambda_ = pm.Deterministic(\"lambda_\", pm.theano.tensor.outer(pm.math.exp(theta1*D.T),lambda0))\n",
    "            \n",
    "        mu = pm.Deterministic(\"mu\", exposure_mat*lambda_)\n",
    "\n",
    "        obs = pm.Poisson(\"obs\", mu, observed=event_mat)\n",
    "        \n",
    "    trace = mcmc_sampler(outcome_model,random_state)\n",
    "        \n",
    "    return trace"
   ]
  },
  {
   "cell_type": "code",
   "execution_count": 4,
   "id": "cf2fa3c2",
   "metadata": {},
   "outputs": [],
   "source": [
    "def BPH_UIP_Dirichlet(D,summaryDs,\n",
    "                      n_intervals=5,\n",
    "                      gammas_ps=False,\n",
    "                      random_state = 2021):\n",
    "    \n",
    "    K = len(summaryDs)\n",
    "    nk_seq = np.array([summaryDs[i].nk for i in range(K)])\n",
    "    bal_seq = np.array([summaryDs[i].pi_bal for i in range(K)])\n",
    "    n = D.y.shape[0]\n",
    "\n",
    "    # gammas: the base measure for the Dirichlet distribution \n",
    "    gammas = nk_seq/n\n",
    "    gammas[gammas>1] = 1\n",
    "\n",
    "    if gammas_ps:\n",
    "        pass\n",
    "#         tmp = bal_seq/bal_seq.min()\n",
    "#         gammas = gammas * (tmp)\n",
    "\n",
    "    outcome_model = pm.Model()\n",
    "    with outcome_model:\n",
    "\n",
    "        # effective sample size\n",
    "        M = pm.Uniform('M',lower=0,upper=np.minimum(nk_seq.sum(),n))\n",
    "\n",
    "        # dirichlet distribution for the prior weighting\n",
    "        pis = pm.Dirichlet(\"pis\", gammas)\n",
    "\n",
    "        mu1 = 0 \n",
    "        sigma1 = 0\n",
    "        for k in range(K):\n",
    "            mu1 += pis[k]*summaryDs[k].est\n",
    "            sigma1 += M*pis[k]/(nk_seq[k]*summaryDs[k].se**2)\n",
    "        sigma1 = pm.math.sqrt(1/sigma1)\n",
    "\n",
    "        # preprocessing\n",
    "        y_interval = D.y.copy()\n",
    "        y_interval = np.append(y_interval[D.T==1],\n",
    "                               [np.max(y_interval)+1,0])\n",
    "        interval_bounds = np.quantile(np.unique(y_interval),np.linspace(0,1,n_intervals+1))\n",
    "        interval_bounds[1:-1] = np.array([0.95*item if item in interval_bounds else item for item in interval_bounds[1:-1]])\n",
    "        intervals = np.arange(n_intervals)\n",
    "        interval_length = np.diff(interval_bounds)\n",
    "        last_period = np.array([np.sum(interval_bounds<=yy)-1 for yy in D.y]).astype(int)\n",
    "\n",
    "        # create some datasets\n",
    "        event_mat = np.zeros((n, n_intervals))\n",
    "        event_mat[np.arange(n), last_period] = D.delta\n",
    "        exposure_mat = np.greater_equal.outer(D.y, interval_bounds[:-1]) * interval_length\n",
    "        exposure_mat[np.arange(n), last_period] = D.y - interval_bounds[last_period]\n",
    "\n",
    "        lambda0 = pm.Gamma(\"lambda0\", 0.01, 0.01, shape=n_intervals)\n",
    "        theta1 = pm.Normal('theta1', mu=mu1, sigma=sigma1)\n",
    "\n",
    "        lambda_ = pm.Deterministic(\"lambda_\", pm.theano.tensor.outer(pm.math.exp(theta1*D.T),lambda0))\n",
    "\n",
    "        mu = pm.Deterministic(\"mu\", exposure_mat*lambda_)\n",
    "        obs = pm.Poisson(\"obs\", mu, observed=event_mat)\n",
    "\n",
    "    trace = mcmc_sampler(outcome_model,random_state)\n",
    "    \n",
    "    return trace"
   ]
  },
  {
   "cell_type": "code",
   "execution_count": 5,
   "id": "3a41a91a",
   "metadata": {},
   "outputs": [],
   "source": [
    "NEJM = edict()\n",
    "NEJM.est = np.log(1.04)\n",
    "NEJM.se = (np.log(1.32)-np.log(0.82))/(2*1.96)\n",
    "NEJM.est_hr = 1.04\n",
    "NEJM.est_ci = (0.82,1.32)\n",
    "NEJM.nk = 1376\n",
    "NEJM.name = 'NEJM'"
   ]
  },
  {
   "cell_type": "code",
   "execution_count": 6,
   "id": "43e7fb3a",
   "metadata": {},
   "outputs": [],
   "source": [
    "AJE = edict()\n",
    "AJE.est = np.log(1.21)\n",
    "AJE.se = (np.log(1.76)-np.log(0.82))/(2*1.96)\n",
    "AJE.est_hr = 1.21\n",
    "AJE.est_ci = (0.82,1.76)\n",
    "AJE.name = 'AJE'\n",
    "AJE.nk = 770+228"
   ]
  },
  {
   "cell_type": "code",
   "execution_count": 8,
   "id": "aaee9c7f",
   "metadata": {},
   "outputs": [],
   "source": [
    "CID = edict()\n",
    "CID.est = np.log(0.89)\n",
    "CID.se = (np.log(3.47)-np.log(0.23))/(2*1.96)\n",
    "CID.est_hr = 0.89\n",
    "CID.est_ci = (0.23,3.47)\n",
    "CID.name = 'CID'\n",
    "CID.nk = 38+46"
   ]
  },
  {
   "cell_type": "code",
   "execution_count": 9,
   "id": "5388c625",
   "metadata": {},
   "outputs": [],
   "source": [
    "PLOS_ONE = edict()\n",
    "PLOS_ONE.est = np.log(1.02)\n",
    "PLOS_ONE.se = (np.log(1.27)-np.log(0.83))/(2*1.96)\n",
    "PLOS_ONE.est_hr = 1.02\n",
    "PLOS_ONE.est_ci = (0.83,1.27)\n",
    "PLOS_ONE.name = 'PLOS_ONE'\n",
    "PLOS_ONE.nk = 2512"
   ]
  },
  {
   "cell_type": "code",
   "execution_count": 11,
   "id": "6773ef63",
   "metadata": {},
   "outputs": [],
   "source": [
    "summaryDs = [PLOS_ONE,NEJM,AJE,CID]"
   ]
  },
  {
   "cell_type": "code",
   "execution_count": 12,
   "id": "b33502bb",
   "metadata": {},
   "outputs": [
    {
     "data": {
      "text/html": [
       "<div>\n",
       "<style scoped>\n",
       "    .dataframe tbody tr th:only-of-type {\n",
       "        vertical-align: middle;\n",
       "    }\n",
       "\n",
       "    .dataframe tbody tr th {\n",
       "        vertical-align: top;\n",
       "    }\n",
       "\n",
       "    .dataframe thead th {\n",
       "        text-align: right;\n",
       "    }\n",
       "</style>\n",
       "<table border=\"1\" class=\"dataframe\">\n",
       "  <thead>\n",
       "    <tr style=\"text-align: right;\">\n",
       "      <th></th>\n",
       "      <th>time</th>\n",
       "      <th>status</th>\n",
       "      <th>treat</th>\n",
       "    </tr>\n",
       "  </thead>\n",
       "  <tbody>\n",
       "    <tr>\n",
       "      <th>0</th>\n",
       "      <td>1.031941</td>\n",
       "      <td>1</td>\n",
       "      <td>0</td>\n",
       "    </tr>\n",
       "    <tr>\n",
       "      <th>1</th>\n",
       "      <td>1.031941</td>\n",
       "      <td>1</td>\n",
       "      <td>0</td>\n",
       "    </tr>\n",
       "    <tr>\n",
       "      <th>2</th>\n",
       "      <td>1.916462</td>\n",
       "      <td>1</td>\n",
       "      <td>0</td>\n",
       "    </tr>\n",
       "    <tr>\n",
       "      <th>3</th>\n",
       "      <td>2.948403</td>\n",
       "      <td>1</td>\n",
       "      <td>0</td>\n",
       "    </tr>\n",
       "    <tr>\n",
       "      <th>4</th>\n",
       "      <td>2.948403</td>\n",
       "      <td>1</td>\n",
       "      <td>0</td>\n",
       "    </tr>\n",
       "  </tbody>\n",
       "</table>\n",
       "</div>"
      ],
      "text/plain": [
       "       time  status  treat\n",
       "0  1.031941       1      0\n",
       "1  1.031941       1      0\n",
       "2  1.916462       1      0\n",
       "3  2.948403       1      0\n",
       "4  2.948403       1      0"
      ]
     },
     "execution_count": 12,
     "metadata": {},
     "output_type": "execute_result"
    }
   ],
   "source": [
    "hcq_rct_df = pd.read_csv('./HCQ_RCT.csv').iloc[:,1:]\n",
    "hcq_rct_df.head()"
   ]
  },
  {
   "cell_type": "code",
   "execution_count": 13,
   "id": "e76c782f",
   "metadata": {},
   "outputs": [],
   "source": [
    "D = edict()\n",
    "D.y = hcq_rct_df['time'].values\n",
    "D.delta = hcq_rct_df['status'].values\n",
    "D.T = hcq_rct_df['treat'].values"
   ]
  },
  {
   "cell_type": "code",
   "execution_count": 14,
   "id": "69e84272",
   "metadata": {},
   "outputs": [],
   "source": [
    "n_intervals = 5\n",
    "random_state = 2021"
   ]
  },
  {
   "cell_type": "code",
   "execution_count": 15,
   "id": "748a2052",
   "metadata": {},
   "outputs": [
    {
     "name": "stderr",
     "output_type": "stream",
     "text": [
      "Auto-assigning NUTS sampler...\n",
      "Initializing NUTS using jitter+adapt_diag...\n",
      "Sequential sampling (2 chains in 1 job)\n",
      "NUTS: [theta1, lambda0]\n",
      "Sampling 2 chains for 5_000 tune and 5_000 draw iterations (10_000 + 10_000 draws total) took 19 seconds.\n"
     ]
    }
   ],
   "source": [
    "trace_nip = BPH(D,n_intervals=n_intervals,\n",
    "                cov_adj=False,\n",
    "                random_state=random_state)"
   ]
  },
  {
   "cell_type": "code",
   "execution_count": 16,
   "id": "53120abb",
   "metadata": {},
   "outputs": [
    {
     "name": "stderr",
     "output_type": "stream",
     "text": [
      "Auto-assigning NUTS sampler...\n",
      "Initializing NUTS using jitter+adapt_diag...\n",
      "Sequential sampling (2 chains in 1 job)\n",
      "NUTS: [theta1, lambda0, pis, M]\n",
      "Sampling 2 chains for 5_000 tune and 5_000 draw iterations (10_000 + 10_000 draws total) took 39 seconds.\n"
     ]
    }
   ],
   "source": [
    "trace_uip = BPH_UIP_Dirichlet(D,summaryDs,\n",
    "                  n_intervals=n_intervals,\n",
    "                  gammas_ps=False,\n",
    "                  random_state = random_state)"
   ]
  },
  {
   "cell_type": "code",
   "execution_count": 17,
   "id": "021e7010",
   "metadata": {},
   "outputs": [],
   "source": [
    "baseline_result = np.array([[item.name, item.nk, item.est_hr, \n",
    "           item.est_ci[0], item.est_ci[1]] for i,item in enumerate(summaryDs)])\n",
    "\n",
    "uip_result = np.array(['RCT-UIP',D.T.shape[0]]+[np.exp(trace_uip['theta1']).mean()]+ \\\n",
    "                        np.percentile(np.exp(trace_uip['theta1']),[2.5,97.5]).tolist())\n",
    "\n",
    "nip_result = np.array(['RCT-NIP',D.T.shape[0]]+[np.exp(trace_nip['theta1']).mean()]+ \\\n",
    "                        np.percentile(np.exp(trace_nip['theta1']),[2.5,97.5]).tolist())"
   ]
  },
  {
   "cell_type": "code",
   "execution_count": 18,
   "id": "9b4f85ef",
   "metadata": {},
   "outputs": [
    {
     "data": {
      "text/plain": [
       "array([['PLOS_ONE', '2512', '1.02', '0.83', '1.27'],\n",
       "       ['NEJM', '1376', '1.04', '0.82', '1.32'],\n",
       "       ['AJE', '998', '1.21', '0.82', '1.76'],\n",
       "       ['CID', '84', '0.89', '0.23', '3.47'],\n",
       "       ['RCT-NIP', '208', '0.9393302718260911', '0.5850004318651876',\n",
       "        '1.4361737162125814'],\n",
       "       ['RCT-UIP', '208', '0.96100770923022', '0.6262584431627027',\n",
       "        '1.3994958258137755']], dtype='<U32')"
      ]
     },
     "execution_count": 18,
     "metadata": {},
     "output_type": "execute_result"
    }
   ],
   "source": [
    "sum_mat = np.concatenate([baseline_result,\n",
    "                nip_result.reshape(1,-1),\n",
    "                uip_result.reshape(1,-1)],axis=0)\n",
    "sum_mat"
   ]
  },
  {
   "cell_type": "code",
   "execution_count": 19,
   "id": "72954543",
   "metadata": {},
   "outputs": [
    {
     "data": {
      "text/html": [
       "<div>\n",
       "<style scoped>\n",
       "    .dataframe tbody tr th:only-of-type {\n",
       "        vertical-align: middle;\n",
       "    }\n",
       "\n",
       "    .dataframe tbody tr th {\n",
       "        vertical-align: top;\n",
       "    }\n",
       "\n",
       "    .dataframe thead th {\n",
       "        text-align: right;\n",
       "    }\n",
       "</style>\n",
       "<table border=\"1\" class=\"dataframe\">\n",
       "  <thead>\n",
       "    <tr style=\"text-align: right;\">\n",
       "      <th></th>\n",
       "      <th>Method</th>\n",
       "      <th>Sample Size</th>\n",
       "      <th>HR</th>\n",
       "      <th>CI Lower</th>\n",
       "      <th>CI Upper</th>\n",
       "      <th>CI</th>\n",
       "      <th>Width</th>\n",
       "      <th>Posterior $\\pi$</th>\n",
       "      <th>$M$</th>\n",
       "    </tr>\n",
       "  </thead>\n",
       "  <tbody>\n",
       "    <tr>\n",
       "      <th>0</th>\n",
       "      <td>PLOS_ONE</td>\n",
       "      <td>2512</td>\n",
       "      <td>1.02</td>\n",
       "      <td>0.83</td>\n",
       "      <td>1.27</td>\n",
       "      <td>(0.83, 1.27)</td>\n",
       "      <td>0.44</td>\n",
       "      <td>0.293783</td>\n",
       "      <td>NaN</td>\n",
       "    </tr>\n",
       "    <tr>\n",
       "      <th>1</th>\n",
       "      <td>NEJM</td>\n",
       "      <td>1376</td>\n",
       "      <td>1.04</td>\n",
       "      <td>0.82</td>\n",
       "      <td>1.32</td>\n",
       "      <td>(0.82, 1.32)</td>\n",
       "      <td>0.5</td>\n",
       "      <td>0.305589</td>\n",
       "      <td>NaN</td>\n",
       "    </tr>\n",
       "    <tr>\n",
       "      <th>2</th>\n",
       "      <td>AJE</td>\n",
       "      <td>998</td>\n",
       "      <td>1.21</td>\n",
       "      <td>0.82</td>\n",
       "      <td>1.76</td>\n",
       "      <td>(0.82, 1.76)</td>\n",
       "      <td>0.94</td>\n",
       "      <td>0.280420</td>\n",
       "      <td>NaN</td>\n",
       "    </tr>\n",
       "    <tr>\n",
       "      <th>3</th>\n",
       "      <td>CID</td>\n",
       "      <td>84</td>\n",
       "      <td>0.89</td>\n",
       "      <td>0.23</td>\n",
       "      <td>3.47</td>\n",
       "      <td>(0.23, 3.47)</td>\n",
       "      <td>3.24</td>\n",
       "      <td>0.120208</td>\n",
       "      <td>NaN</td>\n",
       "    </tr>\n",
       "    <tr>\n",
       "      <th>4</th>\n",
       "      <td>RCT-NIP</td>\n",
       "      <td>208</td>\n",
       "      <td>0.9393302718260911</td>\n",
       "      <td>0.585</td>\n",
       "      <td>1.436174</td>\n",
       "      <td>(0.59, 1.44)</td>\n",
       "      <td>0.851173</td>\n",
       "      <td>NaN</td>\n",
       "      <td>NaN</td>\n",
       "    </tr>\n",
       "    <tr>\n",
       "      <th>5</th>\n",
       "      <td>RCT-UIP</td>\n",
       "      <td>208</td>\n",
       "      <td>0.96100770923022</td>\n",
       "      <td>0.626258</td>\n",
       "      <td>1.399496</td>\n",
       "      <td>(0.63, 1.4)</td>\n",
       "      <td>0.773237</td>\n",
       "      <td>NaN</td>\n",
       "      <td>121.611892</td>\n",
       "    </tr>\n",
       "  </tbody>\n",
       "</table>\n",
       "</div>"
      ],
      "text/plain": [
       "     Method Sample Size                  HR  CI Lower  CI Upper            CI  \\\n",
       "0  PLOS_ONE        2512                1.02      0.83      1.27  (0.83, 1.27)   \n",
       "1      NEJM        1376                1.04      0.82      1.32  (0.82, 1.32)   \n",
       "2       AJE         998                1.21      0.82      1.76  (0.82, 1.76)   \n",
       "3       CID          84                0.89      0.23      3.47  (0.23, 3.47)   \n",
       "4   RCT-NIP         208  0.9393302718260911     0.585  1.436174  (0.59, 1.44)   \n",
       "5   RCT-UIP         208    0.96100770923022  0.626258  1.399496   (0.63, 1.4)   \n",
       "\n",
       "      Width  Posterior $\\pi$         $M$  \n",
       "0      0.44         0.293783         NaN  \n",
       "1       0.5         0.305589         NaN  \n",
       "2      0.94         0.280420         NaN  \n",
       "3      3.24         0.120208         NaN  \n",
       "4  0.851173              NaN         NaN  \n",
       "5  0.773237              NaN  121.611892  "
      ]
     },
     "execution_count": 19,
     "metadata": {},
     "output_type": "execute_result"
    }
   ],
   "source": [
    "sum_df = pd.DataFrame(sum_mat)\n",
    "sum_df.columns = ('Method','Sample Size','HR','CI Lower','CI Upper')\n",
    "sum_df.iloc[:,3:5] = sum_df.iloc[:,3:5].values.astype(float)\n",
    "sum_df['CI'] = [(np.round(sum_df['CI Lower'][i],2),np.round(sum_df['CI Upper'][i],2)) for i in range(sum_df.shape[0])]\n",
    "sum_df['Width'] = sum_df['CI Upper'] - sum_df['CI Lower']\n",
    "sum_df['Posterior $\\pi$'] = trace_uip['pis'].mean(axis=0).tolist()+[np.nan]*2\n",
    "sum_df['$M$'] = [np.nan]*len(summaryDs)+[np.nan,trace_uip['M'].mean()]\n",
    "sum_df"
   ]
  },
  {
   "cell_type": "code",
   "execution_count": null,
   "id": "efefdb95",
   "metadata": {},
   "outputs": [],
   "source": []
  }
 ],
 "metadata": {
  "kernelspec": {
   "display_name": "Python 3",
   "language": "python",
   "name": "python3"
  },
  "language_info": {
   "codemirror_mode": {
    "name": "ipython",
    "version": 3
   },
   "file_extension": ".py",
   "mimetype": "text/x-python",
   "name": "python",
   "nbconvert_exporter": "python",
   "pygments_lexer": "ipython3",
   "version": "3.8.8"
  },
  "toc": {
   "base_numbering": 1,
   "nav_menu": {},
   "number_sections": true,
   "sideBar": true,
   "skip_h1_title": false,
   "title_cell": "Table of Contents",
   "title_sidebar": "Contents",
   "toc_cell": false,
   "toc_position": {},
   "toc_section_display": true,
   "toc_window_display": false
  },
  "varInspector": {
   "cols": {
    "lenName": 16,
    "lenType": 16,
    "lenVar": 40
   },
   "kernels_config": {
    "python": {
     "delete_cmd_postfix": "",
     "delete_cmd_prefix": "del ",
     "library": "var_list.py",
     "varRefreshCmd": "print(var_dic_list())"
    },
    "r": {
     "delete_cmd_postfix": ") ",
     "delete_cmd_prefix": "rm(",
     "library": "var_list.r",
     "varRefreshCmd": "cat(var_dic_list()) "
    }
   },
   "types_to_exclude": [
    "module",
    "function",
    "builtin_function_or_method",
    "instance",
    "_Feature"
   ],
   "window_display": false
  }
 },
 "nbformat": 4,
 "nbformat_minor": 5
}
